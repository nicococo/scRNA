{
 "cells": [
  {
   "cell_type": "code",
   "execution_count": 21,
   "metadata": {},
   "outputs": [],
   "source": [
    "import numpy as np\n",
    "import matplotlib.pyplot as plt\n",
    "%matplotlib inline  \n",
    "\n",
    "from scRNA.simulation import generate_toy_data, split_source_target"
   ]
  },
  {
   "cell_type": "code",
   "execution_count": 30,
   "metadata": {},
   "outputs": [],
   "source": [
    "n_genes = 30\n",
    "n_trg = 50\n",
    "n_src = 50\n",
    "cluster_spec = [1, [2, 3]]"
   ]
  },
  {
   "cell_type": "code",
   "execution_count": 66,
   "metadata": {},
   "outputs": [
    {
     "name": "stdout",
     "output_type": "stream",
     "text": [
      "(30, 100)\n"
     ]
    }
   ],
   "source": [
    "data, labels = generate_toy_data(num_genes=n_genes, \n",
    "                                 num_cells=n_trg + n_src, \n",
    "                                 cluster_spec=cluster_spec)\n",
    "print data.shape"
   ]
  },
  {
   "cell_type": "code",
   "execution_count": 81,
   "metadata": {},
   "outputs": [
    {
     "name": "stdout",
     "output_type": "stream",
     "text": [
      "Populating the interactive namespace from numpy and matplotlib\n"
     ]
    },
    {
     "data": {
      "text/plain": [
       "([], <a list of 0 Text yticklabel objects>)"
      ]
     },
     "execution_count": 81,
     "output_type": "execute_result",
     "metadata": {}
    },
    {
     "data": {
      "image/png": "[encoded data removed]"
     },
     "output_type": "display_data",
     "text": [
      "<matplotlib.figure.Figure at 0x194ac8250>"
     ],
     "metadata": {}
    }
   ],
   "source": [
    "%pylab inline\n",
    "pylab.rcParams['figure.figsize'] = (15, 3)\n",
    "\n",
    "inds = np.argsort(labels)\n",
    "plt.pcolor(-2. * data[:, inds] / np.max(data) + 1., cmap='bone')\n",
    "plt.clim(-1.,+1.)\n",
    "plt.xticks([])\n",
    "plt.yticks([])\n",
    "# plt.xlabel('Cells')\n",
    "# plt.ylabel('Read counts')"
   ]
  },
  {
   "cell_type": "code",
   "execution_count": null,
   "metadata": {},
   "outputs": [],
   "source": [
    ""
   ]
  }
 ],
 "metadata": {},
 "nbformat": 4,
 "nbformat_minor": 0
}